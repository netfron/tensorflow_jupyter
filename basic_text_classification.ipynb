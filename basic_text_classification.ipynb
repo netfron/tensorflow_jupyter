{
 "cells": [
  {
   "cell_type": "code",
   "execution_count": 1,
   "metadata": {},
   "outputs": [
    {
     "name": "stdout",
     "output_type": "stream",
     "text": [
      "1.8.0\n"
     ]
    }
   ],
   "source": [
    "import tensorflow as tf\n",
    "from tensorflow import keras\n",
    "\n",
    "import numpy as np\n",
    "\n",
    "print(tf.__version__)"
   ]
  },
  {
   "cell_type": "code",
   "execution_count": 2,
   "metadata": {},
   "outputs": [
    {
     "name": "stdout",
     "output_type": "stream",
     "text": [
      "Downloading data from https://s3.amazonaws.com/text-datasets/imdb.npz\n",
      "17465344/17464789 [==============================] - 12s 1us/step\n"
     ]
    }
   ],
   "source": [
    "imdb = keras.datasets.imdb\n",
    "\n",
    "(train_data, train_labels), (test_data, test_labels) = imdb.load_data(num_words=10000)"
   ]
  },
  {
   "cell_type": "code",
   "execution_count": 3,
   "metadata": {},
   "outputs": [
    {
     "name": "stdout",
     "output_type": "stream",
     "text": [
      "Training entries: 25000, labels: 25000\n"
     ]
    }
   ],
   "source": [
    "print(\"Training entries: {}, labels: {}\".format(len(train_data), len(train_labels)))"
   ]
  },
  {
   "cell_type": "code",
   "execution_count": 4,
   "metadata": {},
   "outputs": [
    {
     "name": "stdout",
     "output_type": "stream",
     "text": [
      "[1, 14, 22, 16, 43, 530, 973, 1622, 1385, 65, 458, 4468, 66, 3941, 4, 173, 36, 256, 5, 25, 100, 43, 838, 112, 50, 670, 2, 9, 35, 480, 284, 5, 150, 4, 172, 112, 167, 2, 336, 385, 39, 4, 172, 4536, 1111, 17, 546, 38, 13, 447, 4, 192, 50, 16, 6, 147, 2025, 19, 14, 22, 4, 1920, 4613, 469, 4, 22, 71, 87, 12, 16, 43, 530, 38, 76, 15, 13, 1247, 4, 22, 17, 515, 17, 12, 16, 626, 18, 2, 5, 62, 386, 12, 8, 316, 8, 106, 5, 4, 2223, 5244, 16, 480, 66, 3785, 33, 4, 130, 12, 16, 38, 619, 5, 25, 124, 51, 36, 135, 48, 25, 1415, 33, 6, 22, 12, 215, 28, 77, 52, 5, 14, 407, 16, 82, 2, 8, 4, 107, 117, 5952, 15, 256, 4, 2, 7, 3766, 5, 723, 36, 71, 43, 530, 476, 26, 400, 317, 46, 7, 4, 2, 1029, 13, 104, 88, 4, 381, 15, 297, 98, 32, 2071, 56, 26, 141, 6, 194, 7486, 18, 4, 226, 22, 21, 134, 476, 26, 480, 5, 144, 30, 5535, 18, 51, 36, 28, 224, 92, 25, 104, 4, 226, 65, 16, 38, 1334, 88, 12, 16, 283, 5, 16, 4472, 113, 103, 32, 15, 16, 5345, 19, 178, 32]\n"
     ]
    }
   ],
   "source": [
    "print(train_data[0])"
   ]
  },
  {
   "cell_type": "code",
   "execution_count": 5,
   "metadata": {},
   "outputs": [
    {
     "data": {
      "text/plain": [
       "(218, 189)"
      ]
     },
     "execution_count": 5,
     "metadata": {},
     "output_type": "execute_result"
    }
   ],
   "source": [
    "len(train_data[0]), len(train_data[1])"
   ]
  },
  {
   "cell_type": "code",
   "execution_count": 6,
   "metadata": {},
   "outputs": [
    {
     "name": "stdout",
     "output_type": "stream",
     "text": [
      "Downloading data from https://s3.amazonaws.com/text-datasets/imdb_word_index.json\n",
      "1646592/1641221 [==============================] - 4s 2us/step\n"
     ]
    }
   ],
   "source": [
    "# A dictionary mapping words to an integer index\n",
    "word_index = imdb.get_word_index()\n",
    "\n",
    "# The first indices are reserved\n",
    "word_index = {k:(v+3) for k,v in word_index.items()} \n",
    "word_index[\"<PAD>\"] = 0\n",
    "word_index[\"<START>\"] = 1\n",
    "word_index[\"<UNK>\"] = 2  # unknown\n",
    "word_index[\"<UNUSED>\"] = 3\n",
    "\n",
    "reverse_word_index = dict([(value, key) for (key, value) in word_index.items()])\n",
    "\n",
    "def decode_review(text):\n",
    "    return ' '.join([reverse_word_index.get(i, '?') for i in text])"
   ]
  },
  {
   "cell_type": "code",
   "execution_count": 7,
   "metadata": {},
   "outputs": [
    {
     "data": {
      "text/plain": [
       "\"<START> this film was just brilliant casting location scenery story direction everyone's really suited the part they played and you could just imagine being there robert <UNK> is an amazing actor and now the same being director <UNK> father came from the same scottish island as myself so i loved the fact there was a real connection with this film the witty remarks throughout the film were great it was just brilliant so much that i bought the film as soon as it was released for <UNK> and would recommend it to everyone to watch and the fly fishing was amazing really cried at the end it was so sad and you know what they say if you cry at a film it must have been good and this definitely was also <UNK> to the two little boy's that played the <UNK> of norman and paul they were just brilliant children are often left out of the <UNK> list i think because the stars that play them all grown up are such a big profile for the whole film but these children are amazing and should be praised for what they have done don't you think the whole story was so lovely because it was true and was someone's life after all that was shared with us all\""
      ]
     },
     "execution_count": 7,
     "metadata": {},
     "output_type": "execute_result"
    }
   ],
   "source": [
    "decode_review(train_data[0])"
   ]
  },
  {
   "cell_type": "code",
   "execution_count": 8,
   "metadata": {},
   "outputs": [],
   "source": [
    "train_data = keras.preprocessing.sequence.pad_sequences(train_data,\n",
    "                                                        value=word_index[\"<PAD>\"],\n",
    "                                                        padding='post',\n",
    "                                                        maxlen=256)\n",
    "\n",
    "test_data = keras.preprocessing.sequence.pad_sequences(test_data,\n",
    "                                                       value=word_index[\"<PAD>\"],\n",
    "                                                       padding='post',\n",
    "                                                       maxlen=256)"
   ]
  },
  {
   "cell_type": "code",
   "execution_count": 9,
   "metadata": {},
   "outputs": [
    {
     "data": {
      "text/plain": [
       "(256, 256)"
      ]
     },
     "execution_count": 9,
     "metadata": {},
     "output_type": "execute_result"
    }
   ],
   "source": [
    "len(train_data[0]), len(train_data[1])"
   ]
  },
  {
   "cell_type": "code",
   "execution_count": 10,
   "metadata": {},
   "outputs": [
    {
     "name": "stdout",
     "output_type": "stream",
     "text": [
      "[   1   14   22   16   43  530  973 1622 1385   65  458 4468   66 3941\n",
      "    4  173   36  256    5   25  100   43  838  112   50  670    2    9\n",
      "   35  480  284    5  150    4  172  112  167    2  336  385   39    4\n",
      "  172 4536 1111   17  546   38   13  447    4  192   50   16    6  147\n",
      " 2025   19   14   22    4 1920 4613  469    4   22   71   87   12   16\n",
      "   43  530   38   76   15   13 1247    4   22   17  515   17   12   16\n",
      "  626   18    2    5   62  386   12    8  316    8  106    5    4 2223\n",
      " 5244   16  480   66 3785   33    4  130   12   16   38  619    5   25\n",
      "  124   51   36  135   48   25 1415   33    6   22   12  215   28   77\n",
      "   52    5   14  407   16   82    2    8    4  107  117 5952   15  256\n",
      "    4    2    7 3766    5  723   36   71   43  530  476   26  400  317\n",
      "   46    7    4    2 1029   13  104   88    4  381   15  297   98   32\n",
      " 2071   56   26  141    6  194 7486   18    4  226   22   21  134  476\n",
      "   26  480    5  144   30 5535   18   51   36   28  224   92   25  104\n",
      "    4  226   65   16   38 1334   88   12   16  283    5   16 4472  113\n",
      "  103   32   15   16 5345   19  178   32    0    0    0    0    0    0\n",
      "    0    0    0    0    0    0    0    0    0    0    0    0    0    0\n",
      "    0    0    0    0    0    0    0    0    0    0    0    0    0    0\n",
      "    0    0    0    0]\n"
     ]
    }
   ],
   "source": [
    "print(train_data[0])"
   ]
  },
  {
   "cell_type": "code",
   "execution_count": 11,
   "metadata": {},
   "outputs": [
    {
     "name": "stdout",
     "output_type": "stream",
     "text": [
      "_________________________________________________________________\n",
      "Layer (type)                 Output Shape              Param #   \n",
      "=================================================================\n",
      "embedding_1 (Embedding)      (None, None, 16)          160000    \n",
      "_________________________________________________________________\n",
      "global_average_pooling1d_1 ( (None, 16)                0         \n",
      "_________________________________________________________________\n",
      "dense_1 (Dense)              (None, 16)                272       \n",
      "_________________________________________________________________\n",
      "dense_2 (Dense)              (None, 1)                 17        \n",
      "=================================================================\n",
      "Total params: 160,289\n",
      "Trainable params: 160,289\n",
      "Non-trainable params: 0\n",
      "_________________________________________________________________\n"
     ]
    }
   ],
   "source": [
    "# input shape is the vocabulary count used for the movie reviews (10,000 words)\n",
    "vocab_size = 10000\n",
    "\n",
    "model = keras.Sequential()\n",
    "model.add(keras.layers.Embedding(vocab_size, 16))\n",
    "model.add(keras.layers.GlobalAveragePooling1D())\n",
    "model.add(keras.layers.Dense(16, activation=tf.nn.relu))\n",
    "model.add(keras.layers.Dense(1, activation=tf.nn.sigmoid))\n",
    "\n",
    "model.summary()"
   ]
  },
  {
   "cell_type": "code",
   "execution_count": 12,
   "metadata": {},
   "outputs": [],
   "source": [
    "model.compile(optimizer=tf.train.AdamOptimizer(),\n",
    "              loss='binary_crossentropy',\n",
    "              metrics=['accuracy'])"
   ]
  },
  {
   "cell_type": "code",
   "execution_count": 13,
   "metadata": {},
   "outputs": [],
   "source": [
    "x_val = train_data[:10000]\n",
    "partial_x_train = train_data[10000:]\n",
    "\n",
    "y_val = train_labels[:10000]\n",
    "partial_y_train = train_labels[10000:]"
   ]
  },
  {
   "cell_type": "code",
   "execution_count": 16,
   "metadata": {},
   "outputs": [
    {
     "name": "stdout",
     "output_type": "stream",
     "text": [
      "Train on 15000 samples, validate on 10000 samples\n",
      "Epoch 1/40\n",
      "15000/15000 [==============================] - 1s 90us/step - loss: 0.6934 - acc: 0.5125 - val_loss: 0.6922 - val_acc: 0.5364\n",
      "Epoch 2/40\n",
      "15000/15000 [==============================] - 1s 74us/step - loss: 0.6907 - acc: 0.5604 - val_loss: 0.6896 - val_acc: 0.6060\n",
      "Epoch 3/40\n",
      "15000/15000 [==============================] - 1s 97us/step - loss: 0.6878 - acc: 0.5947 - val_loss: 0.6870 - val_acc: 0.5787\n",
      "Epoch 4/40\n",
      "15000/15000 [==============================] - 1s 73us/step - loss: 0.6840 - acc: 0.6489 - val_loss: 0.6839 - val_acc: 0.5251\n",
      "Epoch 5/40\n",
      "15000/15000 [==============================] - 1s 72us/step - loss: 0.6788 - acc: 0.6798 - val_loss: 0.6769 - val_acc: 0.7091\n",
      "Epoch 6/40\n",
      "15000/15000 [==============================] - 1s 84us/step - loss: 0.6708 - acc: 0.7365 - val_loss: 0.6680 - val_acc: 0.7229\n",
      "Epoch 7/40\n",
      "15000/15000 [==============================] - 1s 91us/step - loss: 0.6590 - acc: 0.7487 - val_loss: 0.6554 - val_acc: 0.7368\n",
      "Epoch 8/40\n",
      "15000/15000 [==============================] - 1s 78us/step - loss: 0.6423 - acc: 0.7562 - val_loss: 0.6384 - val_acc: 0.7445\n",
      "Epoch 9/40\n",
      "15000/15000 [==============================] - 1s 80us/step - loss: 0.6211 - acc: 0.7627 - val_loss: 0.6162 - val_acc: 0.7509\n",
      "Epoch 10/40\n",
      "15000/15000 [==============================] - 1s 74us/step - loss: 0.5945 - acc: 0.7799 - val_loss: 0.5904 - val_acc: 0.7697\n",
      "Epoch 11/40\n",
      "15000/15000 [==============================] - 1s 87us/step - loss: 0.5645 - acc: 0.7851 - val_loss: 0.5653 - val_acc: 0.7697\n",
      "Epoch 12/40\n",
      "15000/15000 [==============================] - 1s 85us/step - loss: 0.5334 - acc: 0.8007 - val_loss: 0.5337 - val_acc: 0.7945\n",
      "Epoch 13/40\n",
      "15000/15000 [==============================] - 1s 79us/step - loss: 0.5006 - acc: 0.8184 - val_loss: 0.5063 - val_acc: 0.8064\n",
      "Epoch 14/40\n",
      "15000/15000 [==============================] - 1s 78us/step - loss: 0.4700 - acc: 0.8319 - val_loss: 0.4798 - val_acc: 0.8174\n",
      "Epoch 15/40\n",
      "15000/15000 [==============================] - 1s 75us/step - loss: 0.4410 - acc: 0.8431 - val_loss: 0.4545 - val_acc: 0.8229\n",
      "Epoch 16/40\n",
      "15000/15000 [==============================] - 1s 86us/step - loss: 0.4146 - acc: 0.8517 - val_loss: 0.4318 - val_acc: 0.8364\n",
      "Epoch 17/40\n",
      "15000/15000 [==============================] - 1s 80us/step - loss: 0.3895 - acc: 0.8651 - val_loss: 0.4122 - val_acc: 0.8430\n",
      "Epoch 18/40\n",
      "15000/15000 [==============================] - 1s 84us/step - loss: 0.3679 - acc: 0.8721 - val_loss: 0.3948 - val_acc: 0.8490\n",
      "Epoch 19/40\n",
      "15000/15000 [==============================] - 1s 78us/step - loss: 0.3488 - acc: 0.8787 - val_loss: 0.3800 - val_acc: 0.8525\n",
      "Epoch 20/40\n",
      "15000/15000 [==============================] - 1s 74us/step - loss: 0.3317 - acc: 0.8849 - val_loss: 0.3673 - val_acc: 0.8580\n",
      "Epoch 21/40\n",
      "15000/15000 [==============================] - 1s 75us/step - loss: 0.3167 - acc: 0.8891 - val_loss: 0.3564 - val_acc: 0.8628\n",
      "Epoch 22/40\n",
      "15000/15000 [==============================] - 1s 75us/step - loss: 0.3031 - acc: 0.8945 - val_loss: 0.3471 - val_acc: 0.8648\n",
      "Epoch 23/40\n",
      "15000/15000 [==============================] - 1s 77us/step - loss: 0.2912 - acc: 0.8979 - val_loss: 0.3396 - val_acc: 0.8662\n",
      "Epoch 24/40\n",
      "15000/15000 [==============================] - 1s 92us/step - loss: 0.2798 - acc: 0.9013 - val_loss: 0.3321 - val_acc: 0.8694\n",
      "Epoch 25/40\n",
      "15000/15000 [==============================] - 1s 79us/step - loss: 0.2696 - acc: 0.9051 - val_loss: 0.3259 - val_acc: 0.8717\n",
      "Epoch 26/40\n",
      "15000/15000 [==============================] - 1s 76us/step - loss: 0.2602 - acc: 0.9080 - val_loss: 0.3210 - val_acc: 0.8721\n",
      "Epoch 27/40\n",
      "15000/15000 [==============================] - 1s 80us/step - loss: 0.2519 - acc: 0.9099 - val_loss: 0.3160 - val_acc: 0.8746\n",
      "Epoch 28/40\n",
      "15000/15000 [==============================] - 1s 92us/step - loss: 0.2434 - acc: 0.9132 - val_loss: 0.3115 - val_acc: 0.8762\n",
      "Epoch 29/40\n",
      "15000/15000 [==============================] - 1s 88us/step - loss: 0.2359 - acc: 0.9153 - val_loss: 0.3085 - val_acc: 0.8753\n",
      "Epoch 30/40\n",
      "15000/15000 [==============================] - 1s 89us/step - loss: 0.2298 - acc: 0.9159 - val_loss: 0.3048 - val_acc: 0.8785\n",
      "Epoch 31/40\n",
      "15000/15000 [==============================] - 1s 85us/step - loss: 0.2220 - acc: 0.9200 - val_loss: 0.3023 - val_acc: 0.8788\n",
      "Epoch 32/40\n",
      "15000/15000 [==============================] - 1s 77us/step - loss: 0.2163 - acc: 0.9221 - val_loss: 0.2998 - val_acc: 0.8802\n",
      "Epoch 33/40\n",
      "15000/15000 [==============================] - 1s 79us/step - loss: 0.2095 - acc: 0.9243 - val_loss: 0.2976 - val_acc: 0.8816\n",
      "Epoch 34/40\n",
      "15000/15000 [==============================] - 1s 76us/step - loss: 0.2038 - acc: 0.9271 - val_loss: 0.2962 - val_acc: 0.8824\n",
      "Epoch 35/40\n",
      "15000/15000 [==============================] - 1s 82us/step - loss: 0.1990 - acc: 0.9287 - val_loss: 0.2942 - val_acc: 0.8820\n",
      "Epoch 36/40\n",
      "15000/15000 [==============================] - 1s 84us/step - loss: 0.1931 - acc: 0.9327 - val_loss: 0.2929 - val_acc: 0.8827\n",
      "Epoch 37/40\n",
      "15000/15000 [==============================] - 1s 75us/step - loss: 0.1881 - acc: 0.9343 - val_loss: 0.2917 - val_acc: 0.8839\n",
      "Epoch 38/40\n",
      "15000/15000 [==============================] - 1s 74us/step - loss: 0.1835 - acc: 0.9353 - val_loss: 0.2908 - val_acc: 0.8846\n",
      "Epoch 39/40\n",
      "15000/15000 [==============================] - 1s 76us/step - loss: 0.1783 - acc: 0.9397 - val_loss: 0.2899 - val_acc: 0.8839\n",
      "Epoch 40/40\n",
      "15000/15000 [==============================] - 1s 73us/step - loss: 0.1739 - acc: 0.9405 - val_loss: 0.2892 - val_acc: 0.8844\n"
     ]
    }
   ],
   "source": [
    "history = model.fit(partial_x_train,\n",
    "                    partial_y_train,\n",
    "                    epochs=40,\n",
    "                    batch_size=512,\n",
    "                    validation_data=(x_val, y_val),\n",
    "                    verbose=1)"
   ]
  },
  {
   "cell_type": "code",
   "execution_count": 17,
   "metadata": {},
   "outputs": [
    {
     "name": "stdout",
     "output_type": "stream",
     "text": [
      "25000/25000 [==============================] - 1s 38us/step\n",
      "[0.30330525155067445, 0.87604]\n"
     ]
    }
   ],
   "source": [
    "results = model.evaluate(test_data, test_labels)\n",
    "\n",
    "print(results)"
   ]
  },
  {
   "cell_type": "code",
   "execution_count": 18,
   "metadata": {},
   "outputs": [
    {
     "data": {
      "text/plain": [
       "dict_keys(['val_loss', 'val_acc', 'loss', 'acc'])"
      ]
     },
     "execution_count": 18,
     "metadata": {},
     "output_type": "execute_result"
    }
   ],
   "source": [
    "history_dict = history.history\n",
    "history_dict.keys()"
   ]
  },
  {
   "cell_type": "code",
   "execution_count": 21,
   "metadata": {},
   "outputs": [
    {
     "data": {
      "text/plain": [
       "<Figure size 640x480 with 1 Axes>"
      ]
     },
     "metadata": {},
     "output_type": "display_data"
    }
   ],
   "source": [
    "import matplotlib.pyplot as plt\n",
    "\n",
    "acc = history.history['acc']\n",
    "val_acc = history.history['val_acc']\n",
    "loss = history.history['loss']\n",
    "val_loss = history.history['val_loss']\n",
    "\n",
    "epochs = range(1, len(acc) + 1)\n",
    "\n",
    "# \"bo\" is for \"blue dot\"\n",
    "plt.plot(epochs, loss, 'bo', label='Training loss')\n",
    "# b is for \"solid blue line\"\n",
    "plt.plot(epochs, val_loss, 'b', label='Validation loss')\n",
    "plt.title('Training and validation loss')\n",
    "plt.xlabel('Epochs')\n",
    "plt.ylabel('Loss')\n",
    "plt.legend()\n",
    "\n",
    "plt.show()"
   ]
  },
  {
   "cell_type": "code",
   "execution_count": 22,
   "metadata": {},
   "outputs": [
    {
     "data": {
      "image/png": "[encoded data removed]",
      "text/plain": [
       "<Figure size 432x288 with 1 Axes>"
      ]
     },
     "metadata": {},
     "output_type": "display_data"
    }
   ],
   "source": [
    "plt.clf()   # clear figure\n",
    "acc_values = history_dict['acc']\n",
    "val_acc_values = history_dict['val_acc']\n",
    "\n",
    "plt.plot(epochs, acc, 'bo', label='Training acc')\n",
    "plt.plot(epochs, val_acc, 'b', label='Validation acc')\n",
    "plt.title('Training and validation accuracy')\n",
    "plt.xlabel('Epochs')\n",
    "plt.ylabel('Accuracy')\n",
    "plt.legend()\n",
    "\n",
    "plt.show()"
   ]
  },
  {
   "cell_type": "code",
   "execution_count": null,
   "metadata": {},
   "outputs": [],
   "source": []
  }
 ],
 "metadata": {
  "kernelspec": {
   "display_name": "Python 3",
   "language": "python",
   "name": "python3"
  },
  "language_info": {
   "codemirror_mode": {
    "name": "ipython",
    "version": 3
   },
   "file_extension": ".py",
   "mimetype": "text/x-python",
   "name": "python",
   "nbconvert_exporter": "python",
   "pygments_lexer": "ipython3",
   "version": "3.6.6"
  }
 },
 "nbformat": 4,
 "nbformat_minor": 2
}
